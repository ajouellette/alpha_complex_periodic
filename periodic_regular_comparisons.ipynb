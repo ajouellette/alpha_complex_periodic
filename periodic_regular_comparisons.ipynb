{
 "cells": [
  {
   "cell_type": "code",
   "execution_count": null,
   "id": "34c0d1f5-98bf-448e-9009-d3be94d5e101",
   "metadata": {},
   "outputs": [],
   "source": [
    "import timeit\n",
    "import numpy as np\n",
    "from scipy import stats\n",
    "import matplotlib.pyplot as plt\n",
    "import gudhi as gd\n",
    "import gudhi.representations as gdr\n",
    "from alpha_complex_periodic import calc_persistence\n",
    "from gadgetutils import utils"
   ]
  },
  {
   "cell_type": "code",
   "execution_count": null,
   "id": "35c9a91d-50e8-422d-8e59-476baad84f8f",
   "metadata": {},
   "outputs": [],
   "source": [
    "plt.style.use([\"science\", \"notebook\"])"
   ]
  },
  {
   "cell_type": "markdown",
   "id": "90b44306-b1d6-40da-b49c-56836c5e5faf",
   "metadata": {
    "tags": []
   },
   "source": [
    "# Timing tests"
   ]
  },
  {
   "cell_type": "code",
   "execution_count": null,
   "id": "81758b5c-0f95-49a2-84a2-f0994da508e2",
   "metadata": {},
   "outputs": [],
   "source": [
    "N_vals = np.logspace(1.9, 4.6, 12, dtype=int)"
   ]
  },
  {
   "cell_type": "code",
   "execution_count": null,
   "id": "e72e39ef-5902-4f7a-a4eb-7d0253bebebd",
   "metadata": {},
   "outputs": [],
   "source": [
    "def pers_reg(points):\n",
    "    st = gd.AlphaComplex(points=points).create_simplex_tree()\n",
    "    st.compute_persistence()\n",
    "    pairs = [np.sqrt(st.persistence_intervals_in_dimension(d)) for d in range(3)]\n",
    "    return pairs"
   ]
  },
  {
   "cell_type": "code",
   "execution_count": null,
   "id": "56bff67c-c385-471e-8c16-3424131335b1",
   "metadata": {},
   "outputs": [],
   "source": [
    "timers_reg = [timeit.Timer(\"pers_reg(points)\", f\"points = np.random.rand({N}, 3)\", globals=globals()) for N in N_vals]\n",
    "results_reg = [timer.autorange() for timer in timers_reg]\n",
    "time_reg = [x[1]/x[0] for x in results_reg]"
   ]
  },
  {
   "cell_type": "code",
   "execution_count": null,
   "id": "1633ab77-e659-4b64-877b-57251da5b6a4",
   "metadata": {},
   "outputs": [],
   "source": [
    "timers_reg3d = [timeit.Timer(\"calc_persistence(points)\", f\"points = np.random.rand({N}, 3)\", globals=globals()) for N in N_vals]\n",
    "results_reg3d = [timer.autorange() for timer in timers_reg3d]\n",
    "time_reg3d = [x[1]/x[0] for x in results_reg3d]"
   ]
  },
  {
   "cell_type": "code",
   "execution_count": null,
   "id": "ca5092ca-fc46-4b98-a4e4-b2b35ffd1f82",
   "metadata": {},
   "outputs": [],
   "source": [
    "timers_per = [timeit.Timer(\"calc_persistence(points, boxsize=1)\", f\"points = np.random.rand({N}, 3)\", globals=globals()) for N in N_vals]\n",
    "results_per = [timer.autorange() for timer in timers_per]\n",
    "time_per = [x[1]/x[0] for x in results_per]"
   ]
  },
  {
   "cell_type": "code",
   "execution_count": null,
   "id": "dff40ee9-7153-4679-8477-06daa2b6bb48",
   "metadata": {},
   "outputs": [],
   "source": [
    "plt.plot(N_vals, time_reg, 'o', label=\"regular triangulation\")\n",
    "plt.plot(N_vals, time_reg3d, 'o', label=\"regular (3D) triangulation\")\n",
    "plt.plot(N_vals, time_per, 'o', label=\"periodic triangulation\")\n",
    "plt.loglog()\n",
    "plt.xlabel(\"$N_{points}$\")\n",
    "plt.ylabel(\"runtime  [s]\")\n",
    "plt.legend(frameon=True)\n",
    "plt.show()"
   ]
  },
  {
   "cell_type": "code",
   "execution_count": null,
   "id": "2ae937b9-8b43-4a28-a4c8-60226925faee",
   "metadata": {},
   "outputs": [],
   "source": [
    "fit_reg = stats.linregress(np.log(N_vals), np.log(time_reg))\n",
    "fit_per = stats.linregress(np.log(N_vals)[4:], np.log(time_per)[4:])\n",
    "\n",
    "factor = np.mean(np.array(time_per)[4:] / np.array(time_reg)[4:])\n",
    "print(f\"Periodic triangulation is ~ {factor:.1f} times slower than the regular triangulation (for >500 points)\")"
   ]
  },
  {
   "cell_type": "markdown",
   "id": "0ac433a2-8f84-4556-871b-f714b8bcab76",
   "metadata": {},
   "source": [
    "# Compare periodic / non-periodic topological summaries\n",
    "\n",
    "Using random points uniformly distributied inside a box $[0, L)$."
   ]
  },
  {
   "cell_type": "code",
   "execution_count": null,
   "id": "cf9b0161-0f94-4a62-831c-1dcf365a5859",
   "metadata": {},
   "outputs": [],
   "source": [
    "N = 500\n",
    "boxsize = 1\n",
    "lbar = boxsize / np.cbrt(N)\n",
    "points = boxsize * np.random.rand(N, 3)"
   ]
  },
  {
   "cell_type": "code",
   "execution_count": null,
   "id": "4fdc95c6-8d0f-4d8b-8295-3b361cb0e50e",
   "metadata": {},
   "outputs": [],
   "source": [
    "pairs_periodic = calc_persistence(points, boxsize=boxsize)\n",
    "\n",
    "st = gd.AlphaComplex(points=points).create_simplex_tree()\n",
    "st.compute_persistence()\n",
    "pairs_regular = [np.sqrt(st.persistence_intervals_in_dimension(d)) for d in range(3)]"
   ]
  },
  {
   "cell_type": "markdown",
   "id": "9e6141fe-1c37-4fd1-bb2f-44847976c07b",
   "metadata": {},
   "source": [
    "### Persistence diagrams"
   ]
  },
  {
   "cell_type": "code",
   "execution_count": null,
   "id": "f0cc62fd-5eb9-4bea-a8d8-5af76d2df6d3",
   "metadata": {},
   "outputs": [],
   "source": [
    "plt.figure(figsize=(14,6))\n",
    "colors = ['b', 'g', 'r']\n",
    "plt.subplot(1,2,1)\n",
    "plt.title(\"periodic triangulation\")\n",
    "for dim in range(3):\n",
    "    plt.plot(*np.array(pairs_periodic[dim]).T, 'o', alpha=0.6, label=f\"$H_{{{dim}}}$\")\n",
    "plt.plot([0, 0.2], [0, 0.2], 'r-')\n",
    "plt.legend(frameon=True)\n",
    "\n",
    "plt.subplot(1,2,2)\n",
    "plt.title(\"regular triangulation\")\n",
    "for dim in range(3):\n",
    "    plt.plot(*np.array(pairs_regular[dim]).T, 'o', alpha=0.6, label=f\"$H_{{{dim}}}$\")\n",
    "plt.plot([0, 0.2], [0, 0.2], 'r-')\n",
    "plt.show()"
   ]
  },
  {
   "cell_type": "markdown",
   "id": "57123326-59c8-4efd-bde2-358687b09e02",
   "metadata": {},
   "source": [
    "### Weighted silhouttes"
   ]
  },
  {
   "cell_type": "code",
   "execution_count": null,
   "id": "7e99f24c-afa2-427d-bc43-5358673f0713",
   "metadata": {},
   "outputs": [],
   "source": [
    "DS = gdr.preprocessing.DiagramSelector(use=True)\n",
    "SIL = gdr.Silhouette(weight=lambda x: np.power(x[1] - x[0], 1), resolution=500, sample_range=[0, 0.2])\n",
    "x = np.linspace(*SIL.sample_range, SIL.resolution)"
   ]
  },
  {
   "cell_type": "code",
   "execution_count": null,
   "id": "c0d5a20e-00a4-4409-8fdd-d970ef68203d",
   "metadata": {},
   "outputs": [],
   "source": [
    "sils_periodic = SIL.fit_transform(DS.fit_transform([np.array(p) for p in pairs_periodic[1:]]))\n",
    "sils_regular = SIL.fit_transform(DS.fit_transform([np.array(p) for p in pairs_regular[1:]]))"
   ]
  },
  {
   "cell_type": "code",
   "execution_count": null,
   "id": "676cb4fd-6dc7-44a6-b494-c44bb9d51c33",
   "metadata": {},
   "outputs": [],
   "source": [
    "plt.figure(figsize=(14,6))\n",
    "plt.subplot(1,2,1)\n",
    "plt.title(\"$H_1$\")\n",
    "plt.plot(x, sils_periodic[0], label=\"periodic\")\n",
    "plt.plot(x, sils_regular[0], label=\"regular\")\n",
    "plt.xlim(0.02, 0.15)\n",
    "plt.legend(frameon=True)\n",
    "\n",
    "plt.subplot(1,2,2)\n",
    "plt.title(\"$H_2$\")\n",
    "plt.plot(x, sils_periodic[1], label=\"periodic\")\n",
    "plt.plot(x, sils_regular[1], label=\"regular\")\n",
    "plt.xlim(0.06, 0.18)\n",
    "plt.show()\n",
    "\n",
    "per_peak = x[np.argmax(sils_periodic, axis=1)] / lbar\n",
    "reg_peak = x[np.argmax(sils_regular, axis=1)] / lbar\n",
    "print(f\"Periodic:  H_1 peak: {per_peak[0]:.3f} lbar\\t H_2 peak: {per_peak[1]:.3f} lbar\")\n",
    "print(f\"Regular:   H_1 peak: {reg_peak[0]:.3f} lbar\\t H_2 peak: {reg_peak[1]:.3f} lbar\")"
   ]
  },
  {
   "cell_type": "markdown",
   "id": "01457201-9d09-4bf2-9c81-f1d6df9f4dac",
   "metadata": {},
   "source": [
    "Individual curves do not match that well.\n",
    "\n",
    "Next, generate many samples of regular triangulations by shifting center of periodic box\n",
    "\n",
    "Compare mean to periodic curve"
   ]
  },
  {
   "cell_type": "code",
   "execution_count": null,
   "id": "c5c3c862-990b-49a2-b6e9-9e2767990c29",
   "metadata": {},
   "outputs": [],
   "source": [
    "n_samples = 50\n",
    "shifted_centers = [utils.center_box_pbc(points, boxsize*np.random.rand(3), boxsize) + boxsize/2 for i in range(n_samples)]"
   ]
  },
  {
   "cell_type": "code",
   "execution_count": null,
   "id": "04928646-b616-4f1a-ab36-8b5a3ddc2c5d",
   "metadata": {},
   "outputs": [],
   "source": [
    "sts = [gd.AlphaComplex(points).create_simplex_tree() for points in shifted_centers]\n",
    "for sti in sts: sti.compute_persistence()\n",
    "pairs_samples = [[np.sqrt(sti.persistence_intervals_in_dimension(d)) for sti in sts] for d in range(3)]"
   ]
  },
  {
   "cell_type": "code",
   "execution_count": null,
   "id": "d144d690-1aed-447f-aabb-273a1a1a9555",
   "metadata": {},
   "outputs": [],
   "source": [
    "sils_samples = [SIL.fit_transform(p) for p in pairs_samples[1:]]\n",
    "sils_reg_mean = [np.mean(s, axis=0) for s in sils_samples]\n",
    "sils_reg_std = [np.std(s, axis=0) for s in sils_samples]"
   ]
  },
  {
   "cell_type": "code",
   "execution_count": null,
   "id": "041d93ec-40a5-4d45-bbdc-0411e51ab2c2",
   "metadata": {},
   "outputs": [],
   "source": [
    "plt.figure(figsize=(14,6))\n",
    "plt.subplot(1,2,1)\n",
    "plt.title(\"$H_1$\")\n",
    "plt.plot(x, sils_periodic[0], label=\"periodic\")\n",
    "plt.plot(x, sils_reg_mean[0], label=\"regular\")\n",
    "plt.fill_between(x, sils_reg_mean[0]-sils_reg_std[0], sils_reg_mean[0]+sils_reg_std[0], alpha=0.3, color='g')\n",
    "plt.xlim(0.02, 0.15)\n",
    "plt.legend(frameon=True)\n",
    "\n",
    "plt.subplot(1,2,2)\n",
    "plt.title(\"$H_2$\")\n",
    "plt.plot(x, sils_periodic[1], label=\"periodic\")\n",
    "plt.plot(x, sils_reg_mean[1], label=\"regular\")\n",
    "plt.fill_between(x, sils_reg_mean[1]-sils_reg_std[1], sils_reg_mean[1]+sils_reg_std[1], alpha=0.3, color='g')\n",
    "plt.xlim(0.06, 0.18)\n",
    "plt.show()\n",
    "\n",
    "per_peak = x[np.argmax(sils_periodic, axis=1)] / lbar\n",
    "reg_peak = x[np.argmax(sils_reg_mean, axis=1)] / lbar\n",
    "print(f\"Periodic:  H_1 peak: {per_peak[0]:.3f} lbar\\t H_2 peak: {per_peak[1]:.3f} lbar\")\n",
    "print(f\"Regular:   H_1 peak: {reg_peak[0]:.3f} lbar\\t H_2 peak: {reg_peak[1]:.3f} lbar\")"
   ]
  },
  {
   "cell_type": "markdown",
   "id": "09fd67f7-9ca7-4728-8160-be4fab8f7e60",
   "metadata": {},
   "source": [
    "### Betti curves"
   ]
  },
  {
   "cell_type": "code",
   "execution_count": null,
   "id": "e7d3cbc6-b3a0-456b-99b9-3251148dd3f7",
   "metadata": {},
   "outputs": [],
   "source": [
    "BC = gdr.BettiCurve(resolution=SIL.resolution, sample_range=SIL.sample_range)"
   ]
  },
  {
   "cell_type": "code",
   "execution_count": null,
   "id": "75d8885f-fdd6-4079-9367-01f4c10a47c0",
   "metadata": {},
   "outputs": [],
   "source": [
    "bc_periodic = BC.fit_transform(DS.fit_transform([np.array(p) for p in pairs_periodic]))\n",
    "bc_regular = BC.fit_transform(DS.fit_transform([np.array(p) for p in pairs_regular]))"
   ]
  },
  {
   "cell_type": "code",
   "execution_count": null,
   "id": "a145e15a-324b-4c31-a51d-c1221745c1af",
   "metadata": {},
   "outputs": [],
   "source": [
    "plt.figure(figsize=(22,6))\n",
    "plt.subplot(1,3,1)\n",
    "plt.title(\"$H_0$\")\n",
    "plt.plot(x, bc_periodic[0], label=\"periodic\")\n",
    "plt.plot(x, bc_regular[0], label=\"regular\")\n",
    "plt.xlim(0, 0.12)\n",
    "plt.legend(frameon=True)\n",
    "\n",
    "plt.subplot(1,3,2)\n",
    "plt.title(\"$H_1$\")\n",
    "plt.plot(x, bc_periodic[1], label=\"periodic\")\n",
    "plt.plot(x, bc_regular[1], label=\"regular\")\n",
    "plt.xlim(0, 0.18)\n",
    "\n",
    "plt.subplot(1,3,3)\n",
    "plt.title(\"$H_2$\")\n",
    "plt.plot(x, bc_periodic[2], label=\"periodic\")\n",
    "plt.plot(x, bc_regular[2], label=\"regular\")\n",
    "plt.xlim(0.05, 0.2)\n",
    "plt.show()\n",
    "\n",
    "per_halfmax = x[np.argmin(np.abs(bc_periodic[0] - 0.5*bc_periodic[0][0]))] / lbar\n",
    "reg_halfmax = x[np.argmin(np.abs(bc_regular[0] - 0.5*bc_regular[0][0]))] / lbar\n",
    "per_peak = x[np.argmax(bc_periodic[1:], axis=1)] / lbar\n",
    "reg_peak = x[np.argmax(bc_regular[1:], axis=1)] / lbar\n",
    "print(f\"Periodic:  H_0 halfmax: {per_halfmax:.3f} lbar\\t H_1 peak: {per_peak[0]:.3f} lbar\\t H_2 peak: {per_peak[1]:.3f} lbar\")\n",
    "print(f\"Regular:   H_0 halfmax: {reg_halfmax:.3f} lbar\\t H_1 peak: {reg_peak[0]:.3f} lbar\\t H_2 peak: {reg_peak[1]:.3f} lbar\")"
   ]
  },
  {
   "cell_type": "markdown",
   "id": "463e5339-c615-4d8b-ad23-c8cc02bbd630",
   "metadata": {},
   "source": [
    "Look at full distribution of regular curves"
   ]
  },
  {
   "cell_type": "code",
   "execution_count": null,
   "id": "ce61268a-fe7e-431c-8f1d-5806b00aaacc",
   "metadata": {},
   "outputs": [],
   "source": [
    "bc_samples = [BC.fit_transform(DS.fit_transform(p)) for p in pairs_samples]\n",
    "bc_reg_mean = [np.mean(b, axis=0) for b in bc_samples]\n",
    "bc_reg_std = [np.std(b, axis=0) for b in bc_samples]"
   ]
  },
  {
   "cell_type": "code",
   "execution_count": null,
   "id": "76e2610e-9103-40d3-9a24-041760a5225f",
   "metadata": {},
   "outputs": [],
   "source": [
    "plt.figure(figsize=(22,6))\n",
    "plt.subplot(1,3,1)\n",
    "plt.title(\"$H_0$\")\n",
    "plt.plot(x, bc_periodic[0], label=\"periodic\")\n",
    "plt.plot(x, bc_reg_mean[0], label=\"regular\")\n",
    "plt.fill_between(x, bc_reg_mean[0]-bc_reg_std[0], bc_reg_mean[0]+bc_reg_std[0], alpha=0.3, color='g')\n",
    "plt.xlim(0, 0.12)\n",
    "plt.legend(frameon=True)\n",
    "\n",
    "plt.subplot(1,3,2)\n",
    "plt.title(\"$H_1$\")\n",
    "plt.plot(x, bc_periodic[1], label=\"periodic\")\n",
    "plt.plot(x, bc_reg_mean[1], label=\"regular\")\n",
    "plt.fill_between(x, bc_reg_mean[1]-bc_reg_std[1], bc_reg_mean[1]+bc_reg_std[1], alpha=0.3, color='g')\n",
    "plt.xlim(0, 0.18)\n",
    "\n",
    "plt.subplot(1,3,3)\n",
    "plt.title(\"$H_2$\")\n",
    "plt.plot(x, bc_periodic[2], label=\"periodic\")\n",
    "plt.plot(x, bc_reg_mean[2], label=\"regular\")\n",
    "plt.fill_between(x, bc_reg_mean[2]-bc_reg_std[2], bc_reg_mean[2]+bc_reg_std[2], alpha=0.3, color='g')\n",
    "plt.xlim(0.05, 0.2)\n",
    "plt.show()\n",
    "\n",
    "per_halfmax = x[np.argmin(np.abs(bc_periodic[0] - 0.5*bc_periodic[0][0]))] / lbar\n",
    "reg_halfmax = x[np.argmin(np.abs(bc_reg_mean[0] - 0.5*bc_reg_mean[0][0]))] / lbar\n",
    "per_peak = x[np.argmax(bc_periodic[1:], axis=1)] / lbar\n",
    "reg_peak = x[np.argmax(bc_reg_mean[1:], axis=1)] / lbar\n",
    "print(f\"Periodic:  H_0 halfmax: {per_halfmax:.3f} lbar\\t H_1 peak: {per_peak[0]:.3f} lbar\\t H_2 peak: {per_peak[1]:.3f} lbar\")\n",
    "print(f\"Regular:   H_0 halfmax: {reg_halfmax:.3f} lbar\\t H_1 peak: {reg_peak[0]:.3f} lbar\\t H_2 peak: {reg_peak[1]:.3f} lbar\")"
   ]
  },
  {
   "cell_type": "markdown",
   "id": "295be022-ffbf-4f0b-91fb-736b585d6e33",
   "metadata": {},
   "source": [
    "### Entropy summary curves\n",
    "\n",
    "cleaner and provide better comparisons than the Betti curves"
   ]
  },
  {
   "cell_type": "code",
   "execution_count": null,
   "id": "8396588c-85db-4e6e-b6f2-e69f40894f16",
   "metadata": {},
   "outputs": [],
   "source": [
    "ES = gdr.Entropy(mode=\"vector\", normalized=True, resolution=SIL.resolution, sample_range=SIL.sample_range)"
   ]
  },
  {
   "cell_type": "code",
   "execution_count": null,
   "id": "ebdbe630-eec6-4e96-9260-8ddd12b65b0a",
   "metadata": {},
   "outputs": [],
   "source": [
    "es_periodic = ES.fit_transform(DS.fit_transform([np.array(p) for p in pairs_periodic]))\n",
    "es_regular = ES.fit_transform(DS.fit_transform([np.array(p) for p in pairs_regular]))"
   ]
  },
  {
   "cell_type": "code",
   "execution_count": null,
   "id": "1a99921c-0edd-4235-a77e-6e5427ef1a8f",
   "metadata": {},
   "outputs": [],
   "source": [
    "plt.figure(figsize=(22,6))\n",
    "plt.subplot(1,3,1)\n",
    "plt.title(\"$H_0$\")\n",
    "plt.plot(x, es_periodic[0], label=\"periodic\")\n",
    "plt.plot(x, es_regular[0], label=\"regular\")\n",
    "plt.xlim(0, 0.12)\n",
    "plt.legend(frameon=True)\n",
    "\n",
    "plt.subplot(1,3,2)\n",
    "plt.title(\"$H_1$\")\n",
    "plt.plot(x, es_periodic[1], label=\"periodic\")\n",
    "plt.plot(x, es_regular[1], label=\"regular\")\n",
    "plt.xlim(0, 0.18)\n",
    "\n",
    "plt.subplot(1,3,3)\n",
    "plt.title(\"$H_2$\")\n",
    "plt.plot(x, es_periodic[2], label=\"periodic\")\n",
    "plt.plot(x, es_regular[2], label=\"regular\")\n",
    "plt.xlim(0.05, 0.2)\n",
    "plt.show()\n",
    "\n",
    "per_halfmax = x[np.argmin(np.abs(es_periodic[0] - 0.5*es_periodic[0][0]))] / lbar\n",
    "reg_halfmax = x[np.argmin(np.abs(es_regular[0] - 0.5*es_regular[0][0]))] / lbar\n",
    "per_peak = x[np.argmax(es_periodic[1:], axis=1)] / lbar\n",
    "reg_peak = x[np.argmax(es_regular[1:], axis=1)] / lbar\n",
    "print(f\"Periodic:  H_0 halfmax: {per_halfmax:.3f} lbar\\t H_1 peak: {per_peak[0]:.3f} lbar\\t H_2 peak: {per_peak[1]:.3f} lbar\")\n",
    "print(f\"Regular:   H_0 halfmax: {reg_halfmax:.3f} lbar\\t H_1 peak: {reg_peak[0]:.3f} lbar\\t H_2 peak: {reg_peak[1]:.3f} lbar\")"
   ]
  },
  {
   "cell_type": "markdown",
   "id": "91a74259-894e-4f84-8376-64d2494fbf57",
   "metadata": {},
   "source": [
    "Look at full distribution of regular curves"
   ]
  },
  {
   "cell_type": "code",
   "execution_count": null,
   "id": "2e9ec414-3fde-481e-abb9-894d978a7bc6",
   "metadata": {},
   "outputs": [],
   "source": [
    "es_samples = [ES.fit_transform(DS.fit_transform(p)) for p in pairs_samples]\n",
    "es_reg_mean = [np.mean(e, axis=0) for e in es_samples]\n",
    "es_reg_std = [np.std(e, axis=0) for e in es_samples]"
   ]
  },
  {
   "cell_type": "code",
   "execution_count": null,
   "id": "3131453c-0b63-42a7-a7ca-2f2419fe9fd2",
   "metadata": {},
   "outputs": [],
   "source": [
    "plt.figure(figsize=(22,6))\n",
    "plt.subplot(1,3,1)\n",
    "plt.title(\"$H_0$\")\n",
    "plt.plot(x, es_periodic[0], label=\"periodic\")\n",
    "plt.plot(x, es_reg_mean[0], label=\"regular\")\n",
    "plt.fill_between(x, es_reg_mean[0]-es_reg_std[0], es_reg_mean[0]+es_reg_std[0], alpha=0.3, color='g')\n",
    "plt.xlim(0, 0.12)\n",
    "plt.legend(frameon=True)\n",
    "\n",
    "plt.subplot(1,3,2)\n",
    "plt.title(\"$H_1$\")\n",
    "plt.plot(x, es_periodic[1], label=\"periodic\")\n",
    "plt.plot(x, es_reg_mean[1], label=\"regular\")\n",
    "plt.fill_between(x, es_reg_mean[1]-es_reg_std[1], es_reg_mean[1]+es_reg_std[1], alpha=0.3, color='g')\n",
    "plt.xlim(0, 0.18)\n",
    "\n",
    "plt.subplot(1,3,3)\n",
    "plt.title(\"$H_2$\")\n",
    "plt.plot(x, es_periodic[2], label=\"periodic\")\n",
    "plt.plot(x, es_reg_mean[2], label=\"regular\")\n",
    "plt.fill_between(x, es_reg_mean[2]-es_reg_std[2], es_reg_mean[2]+es_reg_std[2], alpha=0.3, color='g')\n",
    "plt.xlim(0.05, 0.2)\n",
    "plt.show()\n",
    "\n",
    "per_halfmax = x[np.argmin(np.abs(es_periodic[0] - 0.5*es_periodic[0][0]))] / lbar\n",
    "reg_halfmax = x[np.argmin(np.abs(es_reg_mean[0] - 0.5*es_reg_mean[0][0]))] / lbar\n",
    "per_peak = x[np.argmax(es_periodic[1:], axis=1)] / lbar\n",
    "reg_peak = x[np.argmax(es_reg_mean[1:], axis=1)] / lbar\n",
    "print(f\"Periodic:  H_0 halfmax: {per_halfmax:.3f} lbar\\t H_1 peak: {per_peak[0]:.3f} lbar\\t H_2 peak: {per_peak[1]:.3f} lbar\")\n",
    "print(f\"Regular:   H_0 halfmax: {reg_halfmax:.3f} lbar\\t H_1 peak: {reg_peak[0]:.3f} lbar\\t H_2 peak: {reg_peak[1]:.3f} lbar\")"
   ]
  },
  {
   "cell_type": "code",
   "execution_count": null,
   "id": "ebd5ca1c-a122-4777-92b2-140ea686d875",
   "metadata": {},
   "outputs": [],
   "source": []
  }
 ],
 "metadata": {
  "kernelspec": {
   "display_name": "Python 3 (ipykernel)",
   "language": "python",
   "name": "python3"
  },
  "language_info": {
   "codemirror_mode": {
    "name": "ipython",
    "version": 3
   },
   "file_extension": ".py",
   "mimetype": "text/x-python",
   "name": "python",
   "nbconvert_exporter": "python",
   "pygments_lexer": "ipython3",
   "version": "3.9.7"
  }
 },
 "nbformat": 4,
 "nbformat_minor": 5
}
